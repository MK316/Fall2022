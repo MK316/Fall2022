{
  "nbformat": 4,
  "nbformat_minor": 0,
  "metadata": {
    "colab": {
      "provenance": [],
      "authorship_tag": "ABX9TyNfPN5tmVaK8vhcotwI1LU+",
      "include_colab_link": true
    },
    "kernelspec": {
      "name": "python3",
      "display_name": "Python 3"
    },
    "language_info": {
      "name": "python"
    }
  },
  "cells": [
    {
      "cell_type": "markdown",
      "metadata": {
        "id": "view-in-github",
        "colab_type": "text"
      },
      "source": [
        "<a href=\"https://colab.research.google.com/github/MK316/Fall2022/blob/main/Demo02_Summarization.ipynb\" target=\"_parent\"><img src=\"https://colab.research.google.com/assets/colab-badge.svg\" alt=\"Open In Colab\"/></a>"
      ]
    },
    {
      "cell_type": "markdown",
      "source": [
        "# Summarization of a text\n",
        "\n",
        "Using {transformers, pipeline}\n",
        "- 🤗 Transformers provides APIs and tools to easily download and train state-of-the-art pretrained models. Using pretrained models can reduce your compute costs, carbon footprint, and save you the time and resources required to train a model from scratch. These models support common tasks in different modalities (image, audio, video, text, etc.).\n",
        "\n",
        "\n",
        "- About Transformer: [link](https://huggingface.co/docs/transformers/index)\n",
        "\n",
        "Coding in English class? [Article source](https://www.kqed.org/education/523829/coding-in-english-class-yes-and-in-your-class-too)"
      ],
      "metadata": {
        "id": "jCBcB_hvXqbT"
      }
    },
    {
      "cell_type": "markdown",
      "source": [
        "## [1] Installation, import packages"
      ],
      "metadata": {
        "id": "HTx2HSXratmo"
      }
    },
    {
      "cell_type": "code",
      "execution_count": 1,
      "metadata": {
        "id": "6dNQCKW7t4ja"
      },
      "outputs": [],
      "source": [
        "%%capture\n",
        "!pip install transformers\n",
        "from transformers import pipeline"
      ]
    },
    {
      "cell_type": "markdown",
      "source": [
        "##[2] Text to paste"
      ],
      "metadata": {
        "id": "dJYTZGmmazcX"
      }
    },
    {
      "cell_type": "markdown",
      "source": [
        "1. Sample text (typical written text): [follow this link](https://raw.githubusercontent.com/MK316/workshop22/main/data/COE_sample)  \n",
        "\n",
        "2. Short stories (Aesop fable texts): http://classics.mit.edu/Aesop/fab.1.1.html\n",
        "\n",
        "\n",
        "- Use Ctrl + a > Ctrl + C\n",
        "- Get it ready to paste (Ctrl + V) to the pop-up window below."
      ],
      "metadata": {
        "id": "1PR3e3UPgOZN"
      }
    },
    {
      "cell_type": "code",
      "source": [
        "text_to_summarize = input()\n",
        "text = str(text_to_summarize)"
      ],
      "metadata": {
        "id": "4LwTveb5agSb",
        "outputId": "5b303f0e-402f-4e77-ba7f-69afde23f555",
        "colab": {
          "base_uri": "https://localhost:8080/"
        }
      },
      "execution_count": 13,
      "outputs": [
        {
          "name": "stdout",
          "output_type": "stream",
          "text": [
            "Wolf, meeting with a Lamb astray from the fold, resolved not to lay violent hands on him, but to find some plea to justify to the Lamb the Wolf's right to eat him. He thus addressed him: \"Sirrah, last year you grossly insulted me.\" \"Indeed,\" bleated the Lamb in a mournful tone of voice, \"I was not then born.\" Then said the Wolf, \"You feed in my pasture.\" \"No, good sir,\" replied the Lamb, \"I have not yet tasted grass.\" Again said the Wolf, \"You drink of my well.\" \"No,\" exclaimed the Lamb, \"I never yet drank water, for as yet my mother's milk is both food and drink to me.\" Upon which the Wolf seized him and ate him up, saying, \"Well! I won't remain supperless, even though you refute every one of my imputations.\" The tyrant will always find a pretext for his tyranny.\n"
          ]
        }
      ]
    },
    {
      "cell_type": "markdown",
      "source": [
        "##[3] Process the text"
      ],
      "metadata": {
        "id": "VDm0Cvmea3q0"
      }
    },
    {
      "cell_type": "code",
      "source": [
        "classifier = pipeline(\"summarization\")\n",
        "a = classifier(text)\n",
        "a"
      ],
      "metadata": {
        "colab": {
          "base_uri": "https://localhost:8080/"
        },
        "id": "K4Jh-gH5uFAX",
        "outputId": "3a839828-9291-4556-c5c2-e1fd140e3368"
      },
      "execution_count": 14,
      "outputs": [
        {
          "output_type": "execute_result",
          "data": {
            "text/plain": [
              "[{'summary_text': ' Wolf, meeting with a Lamb astray from the fold, resolved not to lay violent hands on him, but to find some plea to justify to the Lamb the Wolf\\'s right to eat him . Wolf: \"Sirrah, last year you grossly insulted me.\" \"Indeed,\" bleated the Lamb in a mournful tone of voice, \"I was not then born\"'}]"
            ]
          },
          "metadata": {},
          "execution_count": 14
        }
      ]
    },
    {
      "cell_type": "markdown",
      "source": [
        "Function:  classifier(_text_)"
      ],
      "metadata": {
        "id": "7euHex_sjsd7"
      }
    },
    {
      "cell_type": "markdown",
      "source": [
        "##[4] Comparision before and after:"
      ],
      "metadata": {
        "id": "jxRjn7Jya7Vb"
      }
    },
    {
      "cell_type": "code",
      "source": [
        "t1 = text.split()\n",
        "t2 = a[0]['summary_text']\n",
        "t3 = t2.split()\n",
        "print('Text length: %d words'%len(t1))\n",
        "print('Summary length: %d words'%len(t3))"
      ],
      "metadata": {
        "colab": {
          "base_uri": "https://localhost:8080/"
        },
        "id": "CINGFYJlv3hN",
        "outputId": "b55a144d-8b25-46fc-ec6c-412b288b4a2a"
      },
      "execution_count": 12,
      "outputs": [
        {
          "output_type": "stream",
          "name": "stdout",
          "text": [
            "Text length: 124 words\n",
            "Summary length: 59 words\n"
          ]
        }
      ]
    }
  ]
}