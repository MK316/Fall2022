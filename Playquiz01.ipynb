{
  "nbformat": 4,
  "nbformat_minor": 0,
  "metadata": {
    "colab": {
      "provenance": [],
      "authorship_tag": "ABX9TyMz0V/1w+thgioXSolBXFY2",
      "include_colab_link": true
    },
    "kernelspec": {
      "name": "python3",
      "display_name": "Python 3"
    },
    "language_info": {
      "name": "python"
    }
  },
  "cells": [
    {
      "cell_type": "markdown",
      "metadata": {
        "id": "view-in-github",
        "colab_type": "text"
      },
      "source": [
        "<a href=\"https://colab.research.google.com/github/MK316/Fall2022/blob/main/Playquiz01.ipynb\" target=\"_parent\"><img src=\"https://colab.research.google.com/assets/colab-badge.svg\" alt=\"Open In Colab\"/></a>"
      ]
    },
    {
      "cell_type": "markdown",
      "source": [
        "# 🐳 Play quiz with me"
      ],
      "metadata": {
        "id": "KA8AOgnlC5WL"
      }
    },
    {
      "cell_type": "code",
      "execution_count": 5,
      "metadata": {
        "colab": {
          "base_uri": "https://localhost:8080/"
        },
        "id": "XiDgmuaJC1Us",
        "outputId": "07f889f7-725c-4f3c-d0d1-87e502577b4e",
        "cellView": "form"
      },
      "outputs": [
        {
          "output_type": "stream",
          "name": "stdout",
          "text": [
            "Welcome to my computer quiz!\n",
            "There are four quizzes in this page.\n",
            "I hope you enjoy them!\n",
            "**************************************************\n",
            "Do you want the quiz preview? (Type 'y' or 'n')y\n",
            "*Play 1: Cloze question. \n",
            "*Play 2: Guessing the number I made. \n",
            "*Play 3: Rock-Paper-Scissors with me. \n",
            "*Play 4: Story telling. Choose your way to win.\n"
          ]
        }
      ],
      "source": [
        "#@markdown Greetings\n",
        "print(\"Welcome to my computer quiz!\")\n",
        "print(\"There are four quizzes in this page.\")\n",
        "print(\"I hope you enjoy them!\")\n",
        "print(\"*\"*50)\n",
        "\n",
        "answer = input(\"Do you want the quiz preview? (Type 'y' or 'n')\").lower()\n",
        "\n",
        "if answer == 'y':\n",
        "  print('*Play 1: Cloze question. \\n*Play 2: Guessing the number I made. \\n*Play 3: Rock-Paper-Scissors with me. \\n*Play 4: Story telling. Choose your path to win.')\n",
        "elif answer == 'n':\n",
        "  print('Okay. Move to the quiz then.')\n",
        "\n",
        "else:\n",
        "  print(\"Try again. Type 'y' or 'n'\")"
      ]
    },
    {
      "cell_type": "code",
      "source": [
        "#@markdown Play 1. Cloze Quiz\n",
        "\n",
        "playing = input(\"Are you ready to start? \")\n",
        "\n",
        "if playing.lower() != \"yes\":\n",
        "  print(\"Okay, see you next time 😘 \")\n",
        "  quit()\n",
        "else:\n",
        "  print(\"Okay, let's get started!\")\n",
        "\n",
        "  score = 0\n",
        "\n",
        "  answer = input(\"What does CPU stand for? \")\n",
        "  if answer.lower() == \"central processing unit\" or \"Central Processing Unit\":\n",
        "    print(\"Correct!\")\n",
        "    score += 1\n",
        "  else:\n",
        "    print(\"Incorrect!\")\n",
        "\n",
        "  answer = input(\"What does GPU stand for?\")\n",
        "  if answer.lower() == \"graphic processing unit\":\n",
        "    print(\"Correct!\")\n",
        "    score += 1\n",
        "  else:\n",
        "    print(\"Incorrect!\")\n",
        "\n",
        "  answer = input(\"What does RAM stand for? \")\n",
        "  if answer == \"random access memory\":\n",
        "    print(\"Correct!\")\n",
        "    score += 1\n",
        "  else:\n",
        "    print(\"Incorrect!\")\n",
        "\n",
        "  print(\"You got \" + str(score) + \" questions correct!\")\n",
        "  print(\"You got \" + str((score/3)*100) + \" % correct!\")"
      ],
      "metadata": {
        "colab": {
          "base_uri": "https://localhost:8080/"
        },
        "cellView": "form",
        "id": "NXigV8HDDDYp",
        "outputId": "6f1900f9-2482-42d0-9cf7-758a3f8bc210"
      },
      "execution_count": null,
      "outputs": [
        {
          "output_type": "stream",
          "name": "stdout",
          "text": [
            "Are you ready to start? no\n",
            "Okay, see you next time :-) \n"
          ]
        }
      ]
    },
    {
      "cell_type": "code",
      "source": [
        "#@markdown Play 2. Guessing Number\n",
        "import random\n",
        "top_of_range = input(\"Type the top range of my number: \")\n",
        "\n",
        "if top_of_range.isdigit():\n",
        "  top_of_range = int(top_of_range)\n",
        "\n",
        "  if top_of_range <= 0:\n",
        "    print('Please type a number larger than 0 next time.')\n",
        "    quit()\n",
        "else:\n",
        "  print('Please type a number next time.')\n",
        "  quit()\n",
        "\n",
        "random_number = random.randint(0, top_of_range)\n",
        "guesses = 0\n",
        "\n",
        "while True:\n",
        "  guesses += 1\n",
        "  user_guess = input(\"Make a guess: \")\n",
        "  if user_guess.isdigit():\n",
        "      user_guess = int(user_guess)\n",
        "  else:\n",
        "    print(\"Please type a number next time.\")\n",
        "    continue\n",
        "\n",
        "  if user_guess == random_number:\n",
        "    print(\"You got it!\")\n",
        "    break\n",
        "\n",
        "  elif user_guess > random_number:\n",
        "      print(\"You were above the number!\")\n",
        "  else:\n",
        "      print(\"You were below the number!\")\n",
        "\n",
        "print(\"You got it in\", guesses, \"guesses.\")"
      ],
      "metadata": {
        "colab": {
          "base_uri": "https://localhost:8080/"
        },
        "id": "gvWrvt4jDkcz",
        "outputId": "3fd6882c-ff7d-4913-b435-3d6ed9417125",
        "cellView": "form"
      },
      "execution_count": null,
      "outputs": [
        {
          "output_type": "stream",
          "name": "stdout",
          "text": [
            "Type the top range of my number: 7\n",
            "Make a guess: 7\n",
            "You were above the number!\n",
            "Make a guess: 6\n",
            "You were above the number!\n",
            "Make a guess: 5\n",
            "You were above the number!\n",
            "Make a guess: 4\n",
            "You got it!\n",
            "You got it in 4 guesses.\n"
          ]
        }
      ]
    },
    {
      "cell_type": "markdown",
      "source": [
        "Project 3: Rock, Paper, scissors"
      ],
      "metadata": {
        "id": "JHd5LEZqO-So"
      }
    },
    {
      "cell_type": "code",
      "source": [
        "#@markdown Play 3: Rock, Paper, Scissors\n",
        "import random\n",
        "\n",
        "user_wins = 0\n",
        "computer_wins = 0\n",
        "\n",
        "options = [\"r\",\"p\",\"s\"]\n",
        "\n",
        "while True:\n",
        "  user_input = input(\"Type 'r(Rock)/p(Paper)/s(Scissors)' or 'q' to quit. \").lower()\n",
        "  if user_input ==\"q\":\n",
        "      break\n",
        "\n",
        "  if user_input not in options:\n",
        "      continue\n",
        "\n",
        "  random_number = random.randint(0,2)\n",
        "  # rock = 0, paper = 1, scissors = 2\n",
        "  computer_pick = options[random_number]\n",
        "  print(\"computer_picked\", computer_pick + \".\")\n",
        "\n",
        "  if user_input == \"r\" and computer_pick == \"s\":\n",
        "    print(\"💙 You won!\")\n",
        "    user_wins += 1\n",
        "\n",
        "  elif user_input == \"p\" and computer_pick == \"r\":\n",
        "    print(\"💙 You won!\")\n",
        "    user_wins += 1\n",
        "\n",
        "  elif user_input == \"s\" and computer_pick == \"p\":\n",
        "    print(\"💙 You won!\")\n",
        "    user_wins += 1\n",
        "\n",
        "  else:\n",
        "    print(\"😉 You lost!\")\n",
        "    computer_wins += 1\n",
        "\n",
        "print(\"You won\", user_wins, \"times.\")\n",
        "print(\"Computer won\", computer_wins, \"times.\")\n",
        "print(\"😘 Goodbye!\")\n"
      ],
      "metadata": {
        "colab": {
          "base_uri": "https://localhost:8080/"
        },
        "id": "1aBp_CZ-PDyA",
        "outputId": "c6b5c7df-6c79-48b0-9ae4-89d82fa48694",
        "cellView": "form"
      },
      "execution_count": null,
      "outputs": [
        {
          "output_type": "stream",
          "name": "stdout",
          "text": [
            "Type 'r(Rock)/p(Paper)/s(Scissors)' or 'q' to quit. r\n",
            "computer_picked p.\n",
            "You lost!\n",
            "Type 'r(Rock)/p(Paper)/s(Scissors)' or 'q' to quit. r\n",
            "computer_picked r.\n",
            "You lost!\n",
            "Type 'r(Rock)/p(Paper)/s(Scissors)' or 'q' to quit. p\n",
            "computer_picked s.\n",
            "You lost!\n",
            "Type 'r(Rock)/p(Paper)/s(Scissors)' or 'q' to quit. s\n",
            "computer_picked r.\n",
            "You lost!\n",
            "Type 'r(Rock)/p(Paper)/s(Scissors)' or 'q' to quit. p\n",
            "computer_picked r.\n",
            "You won!\n",
            "Type 'r(Rock)/p(Paper)/s(Scissors)' or 'q' to quit. r\n",
            "computer_picked p.\n",
            "You lost!\n",
            "Type 'r(Rock)/p(Paper)/s(Scissors)' or 'q' to quit. q\n",
            "You won 1 times.\n",
            "Computer won 5 times.\n",
            "Goodbye!\n"
          ]
        }
      ]
    },
    {
      "cell_type": "markdown",
      "source": [
        "Project 4: "
      ],
      "metadata": {
        "id": "xbsRpEJjSpgY"
      }
    },
    {
      "cell_type": "code",
      "source": [
        "#@markdown Play4 Story telling\n",
        "\n",
        "name = input(\"Type your name: \")\n",
        "print(\"Welcome\", name, \"to this adventure!\")\n",
        "\n",
        "print(\"*\"*30)\n",
        "answer = input(\"You are on a dirt road, \\n and it has come to an end. \\n You can go left or right. \\n ** Which way do you want to go? \\n Type 'left' or 'right'.\").lower()\n",
        "\n",
        "print(\"*\"*30)\n",
        "if answer == \"left\":\n",
        "    answer = input(\"🐟 You come to a river, \\n you can walk around it or swim across. \\n ** Type 'walk' or 'swim'.\").lower()\n",
        "    print(\"*\"*30)\n",
        "    if answer == \"swim\":\n",
        "      print(\"🐊 You swam across and were eaten by an alligator. You lose.\")\n",
        "      print(\"*\"*30)\n",
        "    elif answer == \"walk\":\n",
        "      print(\"💧 You walked many miles, \\n ran out of water and you lost the game.\")\n",
        "      print(\"*\"*30)\n",
        "    else:\n",
        "      print(\"😥 Not a valid option. You lose.\")\n",
        "      print(\"*\"*30)\n",
        "elif answer == \"right\":\n",
        "    answer = input(\"You come to a bridge, \\n it looks wobbly, \\n do you want to cross it or head back? ** Type 'cross' or 'back'. \").lower()\n",
        "    print(\"*\"*30)\n",
        "    if answer == \"back\":\n",
        "      print(\"😥 You go back and lost your luck.\")\n",
        "      print(\"*\"*30)\n",
        "    elif answer == \"cross\":\n",
        "      answer = input(\"You cross the bridge and meet a stranger. ** Do you talk to them? (y/n)\").lower()\n",
        "      print(\"*\"*30)\n",
        "      if answer == \"y\":\n",
        "          print(\"👀 You talk to the stranger and he gives you gold. You win!\")\n",
        "      elif answer == \"n\":\n",
        "          print(\"😥 Well, you lost your luck.\")\n",
        "\n",
        "      else:\n",
        "        print(\"😥 Not a valid option. You lose.\")\n",
        "\n",
        "else:\n",
        "  print(\"Not a valid option. You lose.\")\n",
        "\n",
        "print(\"Thank you\", name, \"Bye!\")\n"
      ],
      "metadata": {
        "colab": {
          "base_uri": "https://localhost:8080/"
        },
        "id": "jLZnz4ooSrw2",
        "outputId": "82a61267-1a22-4c69-b9b2-81396d49b1d1",
        "cellView": "form"
      },
      "execution_count": null,
      "outputs": [
        {
          "output_type": "stream",
          "name": "stdout",
          "text": [
            "Type your name: Michelle\n",
            "Welcome Michelle to this adventure!\n",
            "******************************\n",
            "You are on a dirt road, \n",
            " and it has come to an end. \n",
            " You can go left or right. \n",
            " ** Which way do you want to go? \n",
            " Type 'left' or 'right'.left\n",
            "******************************\n",
            "🐟 You come to a river, \n",
            " you can walk around it or swim across. \n",
            " ** Type 'walk' or 'swim'.swim\n",
            "******************************\n",
            "🐊 You swam across and were eaten by an alligator. You lose.\n",
            "******************************\n",
            "Thank you Michelle Bye!\n"
          ]
        }
      ]
    }
  ]
}