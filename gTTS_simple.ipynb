{
  "nbformat": 4,
  "nbformat_minor": 0,
  "metadata": {
    "colab": {
      "provenance": [],
      "authorship_tag": "ABX9TyOLsC518KWYEDjiWGWw3FKe",
      "include_colab_link": true
    },
    "kernelspec": {
      "name": "python3",
      "display_name": "Python 3"
    },
    "language_info": {
      "name": "python"
    }
  },
  "cells": [
    {
      "cell_type": "markdown",
      "metadata": {
        "id": "view-in-github",
        "colab_type": "text"
      },
      "source": [
        "<a href=\"https://colab.research.google.com/github/MK316/Fall2022/blob/main/gTTS_simple.ipynb\" target=\"_parent\"><img src=\"https://colab.research.google.com/assets/colab-badge.svg\" alt=\"Open In Colab\"/></a>"
      ]
    },
    {
      "cell_type": "code",
      "execution_count": 1,
      "metadata": {
        "cellView": "form",
        "id": "d6XMC2VaQ97L"
      },
      "outputs": [],
      "source": [
        "#@markdown Step #1:🚩 install {Gradio}{gTTS} packages and import:\n",
        "%%capture\n",
        "!pip install gradio\n",
        "\n",
        "import gradio as gr\n",
        "\n",
        "!pip install gTTS\n",
        "from gtts import gTTS\n",
        "from IPython.display import Audio"
      ]
    },
    {
      "cell_type": "code",
      "source": [
        "#@markdown 🚩 Making a function { tts ( _text_to_say_) }:\n",
        "def tts(text):\n",
        "\n",
        "  !pip install gTTS\n",
        "  from gtts import gTTS\n",
        "  from IPython.display import Audio\n",
        "\n",
        "  text_to_say = text\n",
        "\n",
        "# Step ⓵ Language to choose:\n",
        "  language_to_choose = \"en\" #@param [\"en\", \"fr\",\"ko\",'es']\n",
        "  # lang = language_to_choose\n",
        "  print(\"Play language accent: %s\"%language_to_choose)\n",
        "  language = language_to_choose\n",
        "\n",
        "# gTTS\n",
        "  gtts_object = gTTS(text = text_to_say,\n",
        "                     lang = language,\n",
        "                    slow = False)\n",
        "  \n",
        "# #@markdown Step ③: Create the audio file (.wav) to play:\n",
        "  gtts_object.save(\"mytext.wav\")\n",
        "\n",
        "# # Output\n",
        "  return Audio(\"mytext.wav\")\n",
        "\n",
        "#@markdown 🚩 Type text to say\n",
        "print('Type texts to create audio:')\n",
        "txt = input()\n",
        "tts(txt)"
      ],
      "metadata": {
        "id": "Qb4Kz9jBJC4B",
        "colab": {
          "base_uri": "https://localhost:8080/",
          "height": 286
        },
        "cellView": "form",
        "outputId": "ea7d6031-d386-4168-893e-3accd5bab5d2"
      },
      "execution_count": 16,
      "outputs": [
        {
          "output_type": "stream",
          "name": "stdout",
          "text": [
            "nod\n",
            "Looking in indexes: https://pypi.org/simple, https://us-python.pkg.dev/colab-wheels/public/simple/\n",
            "Requirement already satisfied: gTTS in /usr/local/lib/python3.7/dist-packages (2.2.4)\n",
            "Requirement already satisfied: requests in /usr/local/lib/python3.7/dist-packages (from gTTS) (2.23.0)\n",
            "Requirement already satisfied: click in /usr/local/lib/python3.7/dist-packages (from gTTS) (7.1.2)\n",
            "Requirement already satisfied: six in /usr/local/lib/python3.7/dist-packages (from gTTS) (1.15.0)\n",
            "Requirement already satisfied: urllib3!=1.25.0,!=1.25.1,<1.26,>=1.21.1 in /usr/local/lib/python3.7/dist-packages (from requests->gTTS) (1.24.3)\n",
            "Requirement already satisfied: certifi>=2017.4.17 in /usr/local/lib/python3.7/dist-packages (from requests->gTTS) (2022.6.15)\n",
            "Requirement already satisfied: idna<3,>=2.5 in /usr/local/lib/python3.7/dist-packages (from requests->gTTS) (2.10)\n",
            "Requirement already satisfied: chardet<4,>=3.0.2 in /usr/local/lib/python3.7/dist-packages (from requests->gTTS) (3.0.4)\n",
            "Play language accent: en\n"
          ]
        },
        {
          "output_type": "execute_result",
          "data": {
            "text/plain": [
              "<IPython.lib.display.Audio object>"
            ],
            "text/html": [
              "\n",
              "                <audio  controls=\"controls\" >\n",
              "                    <source src=\"data:audio/x-wav;base64,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\" type=\"audio/x-wav\" />\n",
              "                    Your browser does not support the audio element.\n",
              "                </audio>\n",
              "              "
            ]
          },
          "metadata": {},
          "execution_count": 16
        }
      ]
    },
    {
      "cell_type": "markdown",
      "source": [
        "Create and save the audio"
      ],
      "metadata": {
        "id": "6RZDKBQGW6eQ"
      }
    },
    {
      "cell_type": "code",
      "source": [
        "tts('nod')"
      ],
      "metadata": {
        "colab": {
          "base_uri": "https://localhost:8080/",
          "height": 269
        },
        "id": "9gtS9RZkRMma",
        "outputId": "db19bdce-7766-40ea-93df-8fe0bdffd3e1"
      },
      "execution_count": 18,
      "outputs": [
        {
          "output_type": "stream",
          "name": "stdout",
          "text": [
            "Looking in indexes: https://pypi.org/simple, https://us-python.pkg.dev/colab-wheels/public/simple/\n",
            "Requirement already satisfied: gTTS in /usr/local/lib/python3.7/dist-packages (2.2.4)\n",
            "Requirement already satisfied: click in /usr/local/lib/python3.7/dist-packages (from gTTS) (7.1.2)\n",
            "Requirement already satisfied: six in /usr/local/lib/python3.7/dist-packages (from gTTS) (1.15.0)\n",
            "Requirement already satisfied: requests in /usr/local/lib/python3.7/dist-packages (from gTTS) (2.23.0)\n",
            "Requirement already satisfied: idna<3,>=2.5 in /usr/local/lib/python3.7/dist-packages (from requests->gTTS) (2.10)\n",
            "Requirement already satisfied: chardet<4,>=3.0.2 in /usr/local/lib/python3.7/dist-packages (from requests->gTTS) (3.0.4)\n",
            "Requirement already satisfied: urllib3!=1.25.0,!=1.25.1,<1.26,>=1.21.1 in /usr/local/lib/python3.7/dist-packages (from requests->gTTS) (1.24.3)\n",
            "Requirement already satisfied: certifi>=2017.4.17 in /usr/local/lib/python3.7/dist-packages (from requests->gTTS) (2022.6.15)\n",
            "Play language accent: en\n"
          ]
        },
        {
          "output_type": "execute_result",
          "data": {
            "text/plain": [
              "<IPython.lib.display.Audio object>"
            ],
            "text/html": [
              "\n",
              "                <audio  controls=\"controls\" >\n",
              "                    <source src=\"data:audio/x-wav;base64,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\" type=\"audio/x-wav\" />\n",
              "                    Your browser does not support the audio element.\n",
              "                </audio>\n",
              "              "
            ]
          },
          "metadata": {},
          "execution_count": 18
        }
      ]
    }
  ]
}