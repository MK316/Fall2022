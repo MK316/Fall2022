{
  "nbformat": 4,
  "nbformat_minor": 0,
  "metadata": {
    "colab": {
      "name": "session01.ipynb",
      "provenance": [],
      "collapsed_sections": [],
      "include_colab_link": true
    },
    "kernelspec": {
      "name": "python3",
      "display_name": "Python 3"
    },
    "language_info": {
      "name": "python"
    }
  },
  "cells": [
    {
      "cell_type": "markdown",
      "metadata": {
        "id": "view-in-github",
        "colab_type": "text"
      },
      "source": [
        "<a href=\"https://colab.research.google.com/github/MK316/Fall2022/blob/main/session02.ipynb\" target=\"_parent\"><img src=\"https://colab.research.google.com/assets/colab-badge.svg\" alt=\"Open In Colab\"/></a>"
      ]
    },
    {
      "cell_type": "markdown",
      "source": [
        "# 💡**Session II**\n",
        "##  Table of Contents:\n",
        "1. Variables\n",
        "2. Data types \n",
        "3. Packages\n",
        "4. Functions\n",
        "---\n",
        "♻️ [Learning sources: W3schools.com/Python](\"https://www.w3schools.com/python/python_variables_output.asp\")\n"
      ],
      "metadata": {
        "id": "mF4SB1lwo9CL"
      }
    },
    {
      "cell_type": "markdown",
      "source": [
        "\n",
        "##📗 [1] Variables\n",
        "\n",
        ": Python has no command for declaring a variable. A variable is created the moment you first **assign** a value to it. (e.g., x = -7, y = 3.1415926535, name = \"Mary\", etc.)\n",
        "\n",
        "🔳   Types of variables: Integer, floating number, and string"
      ],
      "metadata": {
        "id": "DEmp-UbM1thN"
      }
    },
    {
      "cell_type": "markdown",
      "source": [
        "[1] integer, floating, string"
      ],
      "metadata": {
        "id": "4910x9k3HVgX"
      }
    },
    {
      "cell_type": "code",
      "source": [
        "# x = 3    'Integer 3 is assigned to the variable 'x'\n",
        "# y = 3.0  'Floating number 3.0 is assigned to the variable 'y'\n",
        "# z = \"3\"  'String \"3\" is assigned to the variable 'z' \n",
        "## Note: \"3\" - single or double quotes for string (both ends should match.)\n",
        "\n",
        "x = 3             # variable 'x' type: integer 'int'\n",
        "y = 3.0           # variable 'y' type: floating number 'float'\n",
        "z = \"3\"           # variable 'z' type: string 'str'\n",
        "Z = 'Character'   # variable 'Z'(capital) type: string 'str'\n",
        "k = \"Mary\"\n",
        "\n",
        "print(type(x))\n",
        "print(type(y))\n",
        "print(type(z))\n",
        "print(type(Z))\n",
        "print(type(k))"
      ],
      "metadata": {
        "id": "sZ5zDruBHv0j",
        "outputId": "2328c451-243e-4152-ce00-f71789018943",
        "colab": {
          "base_uri": "https://localhost:8080/"
        }
      },
      "execution_count": 1,
      "outputs": [
        {
          "output_type": "stream",
          "name": "stdout",
          "text": [
            "<class 'int'>\n",
            "<class 'float'>\n",
            "<class 'str'>\n",
            "<class 'str'>\n",
            "<class 'str'>\n"
          ]
        }
      ]
    },
    {
      "cell_type": "markdown",
      "source": [
        "[2] Arithmetic operations: Addition, Substraction, Multiplication, Divisiton"
      ],
      "metadata": {
        "id": "n02m__jpH2ZT"
      }
    },
    {
      "cell_type": "code",
      "source": [
        "# The four fundamental arithmetic operation:\n",
        "# x, y values are assigned in the above cell.\n",
        "\n",
        "a1 = x + y    # addition\n",
        "a2 = x - y    # substraction\n",
        "a3 = x * y    # multiplication\n",
        "a4 = x/y      # division\n",
        "\n",
        "print(a1)     # integer + floating = floating\n",
        "print(a2)\n",
        "print(a3)\n",
        "print(a4)"
      ],
      "metadata": {
        "id": "1k8lXumXI1iB",
        "outputId": "f14e4edd-bf68-4300-a3c9-1cf3b3de9206",
        "colab": {
          "base_uri": "https://localhost:8080/"
        }
      },
      "execution_count": null,
      "outputs": [
        {
          "output_type": "stream",
          "name": "stdout",
          "text": [
            "6.0\n",
            "0.0\n",
            "9.0\n",
            "1.0\n"
          ]
        }
      ]
    },
    {
      "cell_type": "markdown",
      "source": [
        "[3] Concatenation (+) for strings: connecting strings"
      ],
      "metadata": {
        "id": "KHQZhjPpIB4w"
      }
    },
    {
      "cell_type": "code",
      "source": [
        "# String operation with '+'\n",
        "# This will concatenate strings\n",
        "\n",
        "z = \"7\"; Z = \"Number\"\n",
        "a2 = Z + z\n",
        "a3 = z + z\n",
        "a2         # string + string \n",
        "print(a3)  # string 33, not integer 33\n",
        "print(\"The type of a3 is\", type(a3))\n",
        "type(a3) "
      ],
      "metadata": {
        "id": "Qpqq2qBQI_ms",
        "outputId": "1e0b9fae-074a-4a28-9916-97cb5dc61272",
        "colab": {
          "base_uri": "https://localhost:8080/"
        }
      },
      "execution_count": 6,
      "outputs": [
        {
          "output_type": "stream",
          "name": "stdout",
          "text": [
            "77\n",
            "The type of a3 is <class 'str'>\n"
          ]
        },
        {
          "output_type": "execute_result",
          "data": {
            "text/plain": [
              "str"
            ]
          },
          "metadata": {},
          "execution_count": 6
        }
      ]
    },
    {
      "cell_type": "markdown",
      "source": [
        "* Getting output: a2 (This is a variable name) vs. print()"
      ],
      "metadata": {
        "id": "LRwrop9PJKwS"
      }
    },
    {
      "cell_type": "code",
      "source": [
        "a2 = Z + z "
      ],
      "metadata": {
        "id": "y0i_e8OfJTTx"
      },
      "execution_count": 7,
      "outputs": []
    },
    {
      "cell_type": "code",
      "source": [
        "a2 = Z + Z\n",
        "a2"
      ],
      "metadata": {
        "id": "Cc0YyiqEJclZ",
        "outputId": "843702f8-7f35-4ad9-c000-1b9764c0d462",
        "colab": {
          "base_uri": "https://localhost:8080/",
          "height": 35
        }
      },
      "execution_count": 8,
      "outputs": [
        {
          "output_type": "execute_result",
          "data": {
            "text/plain": [
              "'NumberNumber'"
            ],
            "application/vnd.google.colaboratory.intrinsic+json": {
              "type": "string"
            }
          },
          "metadata": {},
          "execution_count": 8
        }
      ]
    },
    {
      "cell_type": "code",
      "source": [
        "a2 = Z + z\n",
        "a2\n",
        "type(a2)"
      ],
      "metadata": {
        "id": "E78pxGvHJiER",
        "outputId": "5753508d-84c4-4eac-df1c-3f6dcb29c114",
        "colab": {
          "base_uri": "https://localhost:8080/"
        }
      },
      "execution_count": 10,
      "outputs": [
        {
          "output_type": "execute_result",
          "data": {
            "text/plain": [
              "str"
            ]
          },
          "metadata": {},
          "execution_count": 10
        }
      ]
    },
    {
      "cell_type": "code",
      "source": [
        "a2 = Z + z\n",
        "print(a2); print(type(a2))\n",
        "Z"
      ],
      "metadata": {
        "id": "35v7BeK4JqOd",
        "outputId": "3d613e72-a32f-43fd-c4a0-8e43e6973440",
        "colab": {
          "base_uri": "https://localhost:8080/",
          "height": 70
        }
      },
      "execution_count": 12,
      "outputs": [
        {
          "output_type": "stream",
          "name": "stdout",
          "text": [
            "Number7\n",
            "<class 'str'>\n"
          ]
        },
        {
          "output_type": "execute_result",
          "data": {
            "text/plain": [
              "'Number'"
            ],
            "application/vnd.google.colaboratory.intrinsic+json": {
              "type": "string"
            }
          },
          "metadata": {},
          "execution_count": 12
        }
      ]
    },
    {
      "cell_type": "markdown",
      "source": [
        "🔳  String variable outputs"
      ],
      "metadata": {
        "id": "R_m6BPsdSJ1T"
      }
    },
    {
      "cell_type": "code",
      "source": [
        "text = \"I'm learning Python.\"\n",
        "print(text)"
      ],
      "metadata": {
        "id": "DNpSzQ7DSL_-",
        "outputId": "4bed31d7-7c2d-4bea-c4ff-6edcfb5a09f7",
        "colab": {
          "base_uri": "https://localhost:8080/"
        }
      },
      "execution_count": null,
      "outputs": [
        {
          "output_type": "stream",
          "name": "stdout",
          "text": [
            "I'm learning Python.\n"
          ]
        }
      ]
    },
    {
      "cell_type": "code",
      "source": [
        "x = \"I'm\"          # 'I'm' (error)\n",
        "y = \"learning\"\n",
        "z = \"Python.\"\n",
        "\n",
        "print(x, y, z)"
      ],
      "metadata": {
        "id": "Bi7Pd_UESStE",
        "outputId": "9823dc87-dd4a-45fe-9547-85c47cc905bc",
        "colab": {
          "base_uri": "https://localhost:8080/"
        }
      },
      "execution_count": null,
      "outputs": [
        {
          "output_type": "stream",
          "name": "stdout",
          "text": [
            "I'm learning Python\n"
          ]
        }
      ]
    },
    {
      "cell_type": "code",
      "source": [
        "x = \"I'm\"\n",
        "y = \"learning\"\n",
        "z = \"Python\"\n",
        "\n",
        "print(x + y + z)"
      ],
      "metadata": {
        "id": "8C1qCxRJSaQH",
        "outputId": "2cd3d87b-907d-4366-fcb8-9e69b345cbd0",
        "colab": {
          "base_uri": "https://localhost:8080/"
        }
      },
      "execution_count": null,
      "outputs": [
        {
          "output_type": "stream",
          "name": "stdout",
          "text": [
            "I'mlearningPython\n"
          ]
        }
      ]
    },
    {
      "cell_type": "markdown",
      "source": [
        "Q: How to insert spaces between words in this above case?"
      ],
      "metadata": {
        "id": "Q4CgS02RKeYD"
      }
    },
    {
      "cell_type": "code",
      "source": [
        "x = \"I'm\"\n",
        "y = \"learning\"\n",
        "z = \"Python\"\n",
        "\n",
        "print(x + ' ' + y + ' ' + z +'.') #space can be added (concatenated)"
      ],
      "metadata": {
        "id": "-oBJOfHaSjig",
        "outputId": "18f465ca-bc70-417f-ddea-4022afb99373",
        "colab": {
          "base_uri": "https://localhost:8080/"
        }
      },
      "execution_count": null,
      "outputs": [
        {
          "output_type": "stream",
          "name": "stdout",
          "text": [
            "I'm learning Python.\n"
          ]
        }
      ]
    },
    {
      "cell_type": "markdown",
      "source": [
        "###🔳  Assigning variable\n"
      ],
      "metadata": {
        "id": "qGaaUdPhN8z7"
      }
    },
    {
      "cell_type": "markdown",
      "source": [
        "**1) Rules:**\n",
        "* A variable name must start with a letter or the underscore character\n",
        "* A variable name **cannot** start with **a number**\n",
        "* A variable name can only contain alpha-numeric characters and underscores (A-z, 0-9, and _ )\n",
        "* Variable names are case-sensitive (age, Age and AGE are three different variables)"
      ],
      "metadata": {
        "id": "e3ulGi-CQdka"
      }
    },
    {
      "cell_type": "code",
      "source": [
        "_a1 = 3\n",
        "a_1 = 4\n",
        "#1a = 4 (fail)"
      ],
      "metadata": {
        "id": "Zcahk6rmORIg"
      },
      "execution_count": null,
      "outputs": []
    },
    {
      "cell_type": "markdown",
      "source": [
        "Q: Assign values for the following 5 variables (x, y, z, k, m) to create the folowing strings:\n",
        "\n",
        "Mary's ate 7 apples."
      ],
      "metadata": {
        "id": "EOX2QlAeK6H2"
      }
    },
    {
      "cell_type": "code",
      "source": [
        "x = \n",
        "y = \n",
        "z = \n",
        "k = \n",
        "m = \n",
        "\n",
        "sentence = x + y + z + k + m\n",
        "print(sentence)"
      ],
      "metadata": {
        "id": "ezvdPG3nMEoH",
        "outputId": "ebb21fa9-6044-4bd2-b9ef-0b8ff1b3f7ba",
        "colab": {
          "base_uri": "https://localhost:8080/",
          "height": 218
        }
      },
      "execution_count": 13,
      "outputs": [
        {
          "output_type": "error",
          "ename": "TypeError",
          "evalue": "ignored",
          "traceback": [
            "\u001b[0;31m---------------------------------------------------------------------------\u001b[0m",
            "\u001b[0;31mTypeError\u001b[0m                                 Traceback (most recent call last)",
            "\u001b[0;32m<ipython-input-13-898a49a1912f>\u001b[0m in \u001b[0;36m<module>\u001b[0;34m\u001b[0m\n\u001b[1;32m      5\u001b[0m \u001b[0mm\u001b[0m \u001b[0;34m=\u001b[0m \u001b[0;34m\".\"\u001b[0m\u001b[0;34m\u001b[0m\u001b[0;34m\u001b[0m\u001b[0m\n\u001b[1;32m      6\u001b[0m \u001b[0;34m\u001b[0m\u001b[0m\n\u001b[0;32m----> 7\u001b[0;31m \u001b[0msentence\u001b[0m \u001b[0;34m=\u001b[0m \u001b[0mx\u001b[0m \u001b[0;34m+\u001b[0m \u001b[0my\u001b[0m \u001b[0;34m+\u001b[0m \u001b[0mz\u001b[0m \u001b[0;34m+\u001b[0m \u001b[0mk\u001b[0m \u001b[0;34m+\u001b[0m \u001b[0mm\u001b[0m\u001b[0;34m\u001b[0m\u001b[0;34m\u001b[0m\u001b[0m\n\u001b[0m\u001b[1;32m      8\u001b[0m \u001b[0mprint\u001b[0m\u001b[0;34m(\u001b[0m\u001b[0msentence\u001b[0m\u001b[0;34m)\u001b[0m\u001b[0;34m\u001b[0m\u001b[0;34m\u001b[0m\u001b[0m\n",
            "\u001b[0;31mTypeError\u001b[0m: can only concatenate str (not \"int\") to str"
          ]
        }
      ]
    },
    {
      "cell_type": "markdown",
      "source": [
        "**2) Multiple Values to Multiple Variables**  \n",
        ">Python allows you to assign values to multiple variables in one line:"
      ],
      "metadata": {
        "id": "woMHE46cORki"
      }
    },
    {
      "cell_type": "code",
      "source": [
        "x, y, z = 3, 3.0, \"Character\"\n",
        "print(x)\n",
        "print(y)\n",
        "print(z)"
      ],
      "metadata": {
        "id": "YuiwEnmFOVrs",
        "outputId": "f9bc2c92-be67-4ce6-efbf-4087f8eb2b22",
        "colab": {
          "base_uri": "https://localhost:8080/"
        }
      },
      "execution_count": null,
      "outputs": [
        {
          "output_type": "stream",
          "name": "stdout",
          "text": [
            "3\n",
            "3.0\n",
            "Character\n"
          ]
        }
      ]
    },
    {
      "cell_type": "markdown",
      "source": [
        "**3) Variable assignment using a list**\n",
        "> => Unpacking"
      ],
      "metadata": {
        "id": "NKVai0SJPXWj"
      }
    },
    {
      "cell_type": "code",
      "source": [
        "pos = [\"Noun\", \"Verb\", \"Adjective\", \"Adverb\"]\n",
        "x, y, z, m = pos\n",
        "print(x)\n",
        "print(y)\n",
        "print(z)\n",
        "print(m)"
      ],
      "metadata": {
        "id": "TRYMBGCUPYTC",
        "outputId": "0893122f-d4bb-4ad3-c166-e64c020f41ef",
        "colab": {
          "base_uri": "https://localhost:8080/"
        }
      },
      "execution_count": null,
      "outputs": [
        {
          "output_type": "stream",
          "name": "stdout",
          "text": [
            "Noun\n",
            "Verb\n",
            "Adjective\n",
            "Adverb\n"
          ]
        }
      ]
    },
    {
      "cell_type": "markdown",
      "source": [
        "---\n",
        "\n",
        "#📗 [2] Data types\n",
        "\n",
        "Data type is an important concept. Variables can store data of different types, and different types can do different things. Python has the following data types built-in by default:\n",
        "\n",
        "|Types | Kind|\n",
        "|---|---|\n",
        "|Text Type:|\tstr(ing) |\n",
        "|Numeric Types:|\tint(eger), float(ing) |\n",
        "|Sequence Types:|\t**list**, tuple, range |\n",
        "|Mapping Type:|\t**dict(ionary)** |  \n",
        "\n",
        "🔳  Commonly used types of data: Text(string), numeric(integer, floating numbers), **list, dictionary,** (tuple)"
      ],
      "metadata": {
        "id": "NvAtuiGJIbEM"
      }
    },
    {
      "cell_type": "markdown",
      "source": [
        "### 📍 **List data handling**\n",
        "\n",
        "* Accessing items in a listdata\n",
        "* Replace items\n",
        "* Adding items\n",
        "* Inserting items"
      ],
      "metadata": {
        "id": "bM8FR2qTcrb6"
      }
    },
    {
      "cell_type": "code",
      "source": [
        "# List: list [1, 2, 3, 4, 5] or [\"Python\", \"is\", \"awesome\"]\n",
        "\n",
        "listdata = [1, 2, 3, 4, 5]\n",
        "type(listdata)"
      ],
      "metadata": {
        "id": "m4xCtT3TH9kZ",
        "outputId": "623cda66-b1ce-4283-e14b-6f3c3dda4a3e",
        "colab": {
          "base_uri": "https://localhost:8080/"
        }
      },
      "execution_count": 15,
      "outputs": [
        {
          "output_type": "execute_result",
          "data": {
            "text/plain": [
              "list"
            ]
          },
          "metadata": {},
          "execution_count": 15
        }
      ]
    },
    {
      "cell_type": "markdown",
      "source": [
        "Note: Index in python starts with 0(zero)"
      ],
      "metadata": {
        "id": "wTY4Rh17PunN"
      }
    },
    {
      "cell_type": "code",
      "source": [
        "listdata[0] # 1st element in the list"
      ],
      "metadata": {
        "id": "BCLiXOo0PmTP",
        "outputId": "4d52dce1-ac38-4bf2-85d9-3d08c56cf9bf",
        "colab": {
          "base_uri": "https://localhost:8080/"
        }
      },
      "execution_count": 16,
      "outputs": [
        {
          "output_type": "execute_result",
          "data": {
            "text/plain": [
              "1"
            ]
          },
          "metadata": {},
          "execution_count": 16
        }
      ]
    },
    {
      "cell_type": "code",
      "source": [
        "# Accessing the data: List data\n",
        "\n",
        "print(listdata[0])  # 1st element of the list\n",
        "print(listdata[1])  # 2nd element\n",
        "print(listdata[2])  # 3rd element\n",
        "print(listdata[3])  # 4th element\n",
        "print(listdata[4])  # 5th element\n",
        "\n",
        "# Negative indexing means start from the end\n",
        "\n",
        "print(listdata[-1]) # 1st from the end\n",
        "print(listdata[-2])\n",
        "print(listdata[-3])\n",
        "print(listdata[-4])\n",
        "print(listdata[-5])"
      ],
      "metadata": {
        "id": "gbXmvm4eXcJp"
      },
      "execution_count": null,
      "outputs": []
    },
    {
      "cell_type": "markdown",
      "source": [
        "**🔸 Range of Indexes**  \n",
        "> You can specify a range of indices by specifying **where to start and where to end** the range. When specifying a range, the return value will be a new list with the specified items.\n"
      ],
      "metadata": {
        "id": "m--XVCeGbIau"
      }
    },
    {
      "cell_type": "code",
      "source": [
        "fruitlist = [\"apple\", \"banana\", \"cherry\", \"orange\", \"kiwi\", \"melon\", \"mango\"]\n",
        "print(fruitlist[2:5])   # 3rd, 4th, 5th - From 2nd to the element before the 5th (excluding)\n",
        "print(fruitlist[:5])    # From the 1st to the element before the 5th (excluding)\n",
        "print(fruitlist[-4:-1]) # the first from the end is excluded.\n",
        "print(fruitlist[-4:])   # including the last one."
      ],
      "metadata": {
        "id": "bIKefX3ibGtx",
        "outputId": "135092b8-ca68-4348-933f-c113915febaf",
        "colab": {
          "base_uri": "https://localhost:8080/"
        }
      },
      "execution_count": 20,
      "outputs": [
        {
          "output_type": "stream",
          "name": "stdout",
          "text": [
            "['cherry', 'orange', 'kiwi']\n",
            "['apple', 'banana', 'cherry', 'orange', 'kiwi']\n",
            "['orange', 'kiwi', 'melon']\n",
            "['orange', 'kiwi', 'melon', 'mango']\n"
          ]
        }
      ]
    },
    {
      "cell_type": "code",
      "source": [
        "# Change item values:\n",
        "\n",
        "fruitlist = [\"apple\", \"banana\", \"cherry\", \"orange\"]\n",
        "fruitlist[1] = \"grapes\"\n",
        "\n",
        "print(fruitlist[1])\n",
        "print(fruitlist)"
      ],
      "metadata": {
        "id": "OSfu0Oe3c6Ti",
        "outputId": "644671f4-ee2c-4944-b3ea-954eef2888a4",
        "colab": {
          "base_uri": "https://localhost:8080/"
        }
      },
      "execution_count": null,
      "outputs": [
        {
          "output_type": "stream",
          "name": "stdout",
          "text": [
            "grapes\n",
            "['apple', 'grapes', 'cherry', 'orange']\n"
          ]
        }
      ]
    },
    {
      "cell_type": "code",
      "source": [
        "# Change multiple item values:\n",
        "fruitlist = [\"apple\", \"banana\", \"cherry\", \"orange\", \"kiwi\"]\n",
        "fruitlist[1:3] = [\"grapes\",\"banana\"]\n",
        "\n",
        "print(fruitlist)\n",
        "len(fruitlist)"
      ],
      "metadata": {
        "id": "Ie2MLAjgdpu2",
        "outputId": "6bd5233d-883f-4430-87bb-0a2f9551fa4d",
        "colab": {
          "base_uri": "https://localhost:8080/"
        }
      },
      "execution_count": null,
      "outputs": [
        {
          "output_type": "stream",
          "name": "stdout",
          "text": [
            "['apple', 'grapes', 'banana', 'orange', 'kiwi']\n"
          ]
        },
        {
          "output_type": "execute_result",
          "data": {
            "text/plain": [
              "5"
            ]
          },
          "metadata": {},
          "execution_count": 71
        }
      ]
    },
    {
      "cell_type": "code",
      "source": [
        "# Add items: append\n",
        "fruitlist = [\"apple\", \"banana\", \"cherry\", \"orange\", \"kiwi\"]\n",
        "\n",
        "fruitlist.append(\"blueberry\")\n",
        "print(fruitlist)\n",
        "\n",
        "# Length of items in a list: len()\n",
        "\n",
        "len(fruitlist)"
      ],
      "metadata": {
        "id": "feytnr7KhMFs",
        "outputId": "c1538021-1ac0-4a1a-f127-92b861be301e",
        "colab": {
          "base_uri": "https://localhost:8080/"
        }
      },
      "execution_count": null,
      "outputs": [
        {
          "output_type": "stream",
          "name": "stdout",
          "text": [
            "['apple', 'banana', 'cherry', 'orange', 'kiwi', 'blueberry']\n"
          ]
        },
        {
          "output_type": "execute_result",
          "data": {
            "text/plain": [
              "6"
            ]
          },
          "metadata": {},
          "execution_count": 72
        }
      ]
    },
    {
      "cell_type": "code",
      "source": [
        "# Add an item in a specific location: listdata.insert()\n",
        "\n",
        "fruitlist = [\"apple\", \"banana\", \"cherry\"]\n",
        "fruitlist.insert(0, \"blueberry\")\n",
        "fruitlist.insert(2, \"raspberry\")\n",
        "print(fruitlist)"
      ],
      "metadata": {
        "id": "_ouzKG7OibtZ",
        "outputId": "0e178b60-7952-4ff2-fd0c-1ae32d728c0f",
        "colab": {
          "base_uri": "https://localhost:8080/"
        }
      },
      "execution_count": null,
      "outputs": [
        {
          "output_type": "stream",
          "name": "stdout",
          "text": [
            "['blueberry', 'apple', 'raspberry', 'banana', 'cherry']\n"
          ]
        }
      ]
    },
    {
      "cell_type": "code",
      "source": [
        "# Remove items:\n",
        "\n",
        "fruitlist = [\"apple\", \"banana\", \"cherry\"]\n",
        "\n",
        "fruitlist.remove(\"banana\")\n",
        "print(fruitlist)"
      ],
      "metadata": {
        "id": "Vd_4iji6kn0n",
        "outputId": "756ca8ac-79f0-4aa7-deec-9724e7b5babc",
        "colab": {
          "base_uri": "https://localhost:8080/"
        }
      },
      "execution_count": null,
      "outputs": [
        {
          "output_type": "stream",
          "name": "stdout",
          "text": [
            "['apple', 'cherry']\n"
          ]
        }
      ]
    },
    {
      "cell_type": "code",
      "source": [
        "# Remove specific items: (1) .pop()\n",
        "\n",
        "fruitlist = [\"apple\", \"banana\", \"cherry\"]\n",
        "fruitlist.pop(2)  # Remove the 3rd item\n",
        "print(fruitlist)\n",
        "\n",
        "# Remove specific index: (2) del \n",
        "\n",
        "del fruitlist[0]\n",
        "print(fruitlist)"
      ],
      "metadata": {
        "id": "UJwZ86GTk3qs",
        "outputId": "4d751ba8-a5fb-40cf-dfb7-2d99b1576f9c",
        "colab": {
          "base_uri": "https://localhost:8080/"
        }
      },
      "execution_count": null,
      "outputs": [
        {
          "output_type": "stream",
          "name": "stdout",
          "text": [
            "['apple', 'banana']\n",
            "['banana']\n"
          ]
        }
      ]
    },
    {
      "cell_type": "markdown",
      "source": [
        "### 📍 **Dict(ionary) data handling**"
      ],
      "metadata": {
        "id": "Q_Yn3aGpc4Am"
      }
    },
    {
      "cell_type": "code",
      "source": [
        "# Dictionary: dict {\"index1\": \"value1\", \"index2\": \"value2\"}\n",
        "\n",
        "dictdata = {'Noun': 'Python', 'Adj': 'awesome', 'Verb': 'is'}\n",
        "type(dictdata)"
      ],
      "metadata": {
        "id": "KxA4JVswW02h",
        "outputId": "71990051-29a4-4e56-d72a-21ecfbf3b5fa",
        "colab": {
          "base_uri": "https://localhost:8080/"
        }
      },
      "execution_count": null,
      "outputs": [
        {
          "output_type": "execute_result",
          "data": {
            "text/plain": [
              "dict"
            ]
          },
          "metadata": {},
          "execution_count": 45
        }
      ]
    },
    {
      "cell_type": "code",
      "source": [
        "# Accessing the data: Use index for dictionary data\n",
        "\n",
        "print(dictdata['Noun'])  # 1st element of the list\n",
        "print(dictdata['Verb'])  # 2nd element\n",
        "print(dictdata['Adj'])   # 3rd element\n",
        "\n",
        "print(dictdata['Noun'], dictdata['Verb'], dictdata['Adj'])"
      ],
      "metadata": {
        "id": "YySZu52jXt5w",
        "outputId": "2cd7cbdd-19d5-47fa-931c-40c0df1eb4b1",
        "colab": {
          "base_uri": "https://localhost:8080/"
        }
      },
      "execution_count": null,
      "outputs": [
        {
          "output_type": "stream",
          "name": "stdout",
          "text": [
            "Python\n",
            "is\n",
            "awesome\n",
            "Python is awesome\n"
          ]
        }
      ]
    },
    {
      "cell_type": "code",
      "source": [
        "# Dictionary data with list:\n",
        "\n",
        "dictdata1 = {'Noun': [\"book\",\"table\",\"Birds\"], 'Adj': [\"expensive\",\"good\",\"awesome\"],\"Verb\": [\"is\",\"become\",\"sing\"]}\n",
        "\n",
        "print(dictdata1['Noun'])\n",
        "print(dictdata1['Noun'][0])   # 1st element of the list with the index 'Noun'\n",
        "print(dictdata1['Noun'][1])\n",
        "print(dictdata1['Noun'][2])"
      ],
      "metadata": {
        "id": "YW23AFNOgwUl",
        "outputId": "5784b301-2422-4c14-828b-2a422b22c903",
        "colab": {
          "base_uri": "https://localhost:8080/"
        }
      },
      "execution_count": null,
      "outputs": [
        {
          "output_type": "stream",
          "name": "stdout",
          "text": [
            "['book', 'table', 'Birds']\n",
            "book\n",
            "table\n",
            "Birds\n"
          ]
        }
      ]
    },
    {
      "cell_type": "code",
      "source": [
        "a = dictdata1['Noun'][2]\n",
        "b = dictdata1['Verb'][2]\n",
        "\n",
        "print(a, b)"
      ],
      "metadata": {
        "id": "kEhA3KPskRZg",
        "outputId": "a785f497-cf8c-415c-e49a-530c02df8c6f",
        "colab": {
          "base_uri": "https://localhost:8080/"
        }
      },
      "execution_count": null,
      "outputs": [
        {
          "output_type": "stream",
          "name": "stdout",
          "text": [
            "Birds sing\n"
          ]
        }
      ]
    },
    {
      "cell_type": "code",
      "source": [],
      "metadata": {
        "id": "tley75Hkkicf"
      },
      "execution_count": null,
      "outputs": []
    },
    {
      "cell_type": "markdown",
      "source": [
        "---\n",
        "\n",
        "##📗 [3] Packages \n",
        "{ [Frequently used packages for me](https://github.com/MK316/workshop22/blob/main/python_packages.ipynb) }: packages and their usage examples\n",
        "\n",
        "🔳 A. Import packages: when needed. (Common packages are ready to import on colab)  \n",
        "🔳 B. Install packages: some packages need your manual installation. Check out the error message when importing packages."
      ],
      "metadata": {
        "id": "qkuGuNG7o8Hg"
      }
    },
    {
      "cell_type": "markdown",
      "source": [
        "### Example 1️⃣, {os} — Miscellaneous operating system interfaces"
      ],
      "metadata": {
        "id": "trLXzHSlwOdK"
      }
    },
    {
      "cell_type": "code",
      "source": [
        "# Importing packages\n",
        "\n",
        "import os\n",
        "\n",
        "os.getcwd()  # Get current working directory"
      ],
      "metadata": {
        "colab": {
          "base_uri": "https://localhost:8080/",
          "height": 35
        },
        "id": "Ju_ZIjbA431H",
        "outputId": "54d5b8a0-5eda-42a5-b934-90438483d7c1"
      },
      "execution_count": 24,
      "outputs": [
        {
          "output_type": "execute_result",
          "data": {
            "text/plain": [
              "'/content'"
            ],
            "application/vnd.google.colaboratory.intrinsic+json": {
              "type": "string"
            }
          },
          "metadata": {},
          "execution_count": 24
        }
      ]
    },
    {
      "cell_type": "code",
      "source": [
        "# Creating a directory\n",
        "os.mkdir('myfiles')"
      ],
      "metadata": {
        "id": "2gedMdSEyuLr"
      },
      "execution_count": 25,
      "outputs": []
    },
    {
      "cell_type": "code",
      "source": [
        "# Creating a subdirectory\n",
        "os.mkdir('myfiles/test/')"
      ],
      "metadata": {
        "id": "Bwti4g-hzGz-"
      },
      "execution_count": null,
      "outputs": []
    },
    {
      "cell_type": "code",
      "source": [
        "# Change directory\n",
        "os.chdir('/content/myfiles/')"
      ],
      "metadata": {
        "id": "qXREzIlJTgB3"
      },
      "execution_count": 28,
      "outputs": []
    },
    {
      "cell_type": "code",
      "source": [
        "os.getcwd()"
      ],
      "metadata": {
        "id": "fKpcXjx_TllH",
        "outputId": "f5d71330-8732-425e-fd19-71fff30d6028",
        "colab": {
          "base_uri": "https://localhost:8080/",
          "height": 35
        }
      },
      "execution_count": 29,
      "outputs": [
        {
          "output_type": "execute_result",
          "data": {
            "text/plain": [
              "'/content/myfiles'"
            ],
            "application/vnd.google.colaboratory.intrinsic+json": {
              "type": "string"
            }
          },
          "metadata": {},
          "execution_count": 29
        }
      ]
    },
    {
      "cell_type": "markdown",
      "source": [
        "open(file, mode='r', buffering=- 1, encoding=None, errors=None, newline=None, closefd=True, opener=None)\n",
        "\n",
        "[💾  file to download](https://raw.githubusercontent.com/MK316/data/main/DoveAndAnt.txt)"
      ],
      "metadata": {
        "id": "UoSpvr_5w7vy"
      }
    },
    {
      "cell_type": "code",
      "source": [
        "file = open('DoveAndAnt.txt','r')\n",
        "text = file.read()\n",
        "file.close()\n",
        "\n",
        "text"
      ],
      "metadata": {
        "id": "vibkDF9Dw5-x",
        "outputId": "16bba01e-7853-4915-d4ac-dac1f28173fd",
        "colab": {
          "base_uri": "https://localhost:8080/",
          "height": 107
        }
      },
      "execution_count": null,
      "outputs": [
        {
          "output_type": "execute_result",
          "data": {
            "text/plain": [
              "'A Dove saw an Ant fall into a brook. The Ant struggled in vain to reach the bank, and in pity, the Dove dropped a blade of straw close beside it. Clinging to the straw like a shipwrecked sailor to a broken spar, the Ant floated safely to shore. Soon after, the Ant saw a man getting ready to kill the Dove with a stone. But just as he cast the stone, the Ant stung him in the heel, so that the pain made him miss his aim, and the startled Dove flew to safety in a distant wood.\\n\\n'"
            ],
            "application/vnd.google.colaboratory.intrinsic+json": {
              "type": "string"
            }
          },
          "metadata": {},
          "execution_count": 4
        }
      ]
    },
    {
      "cell_type": "code",
      "source": [
        "from google.colab import files\n",
        "uploaded = files.upload()\n",
        "\n",
        "for fn in uploaded.keys():\n",
        "  print(\"User uploaded files '{name}' with length {length} bites\".format(name = fn, length = len(uploaded[fn])))"
      ],
      "metadata": {
        "id": "pPp7QZD8T1CS",
        "outputId": "111fb97a-36c9-4128-d375-fc9bb4aa5d9b",
        "colab": {
          "base_uri": "https://localhost:8080/",
          "height": 90
        }
      },
      "execution_count": 30,
      "outputs": [
        {
          "output_type": "display_data",
          "data": {
            "text/plain": [
              "<IPython.core.display.HTML object>"
            ],
            "text/html": [
              "\n",
              "     <input type=\"file\" id=\"files-fc60b707-f513-4a0d-90fb-14c792c154d1\" name=\"files[]\" multiple disabled\n",
              "        style=\"border:none\" />\n",
              "     <output id=\"result-fc60b707-f513-4a0d-90fb-14c792c154d1\">\n",
              "      Upload widget is only available when the cell has been executed in the\n",
              "      current browser session. Please rerun this cell to enable.\n",
              "      </output>\n",
              "      <script>// Copyright 2017 Google LLC\n",
              "//\n",
              "// Licensed under the Apache License, Version 2.0 (the \"License\");\n",
              "// you may not use this file except in compliance with the License.\n",
              "// You may obtain a copy of the License at\n",
              "//\n",
              "//      http://www.apache.org/licenses/LICENSE-2.0\n",
              "//\n",
              "// Unless required by applicable law or agreed to in writing, software\n",
              "// distributed under the License is distributed on an \"AS IS\" BASIS,\n",
              "// WITHOUT WARRANTIES OR CONDITIONS OF ANY KIND, either express or implied.\n",
              "// See the License for the specific language governing permissions and\n",
              "// limitations under the License.\n",
              "\n",
              "/**\n",
              " * @fileoverview Helpers for google.colab Python module.\n",
              " */\n",
              "(function(scope) {\n",
              "function span(text, styleAttributes = {}) {\n",
              "  const element = document.createElement('span');\n",
              "  element.textContent = text;\n",
              "  for (const key of Object.keys(styleAttributes)) {\n",
              "    element.style[key] = styleAttributes[key];\n",
              "  }\n",
              "  return element;\n",
              "}\n",
              "\n",
              "// Max number of bytes which will be uploaded at a time.\n",
              "const MAX_PAYLOAD_SIZE = 100 * 1024;\n",
              "\n",
              "function _uploadFiles(inputId, outputId) {\n",
              "  const steps = uploadFilesStep(inputId, outputId);\n",
              "  const outputElement = document.getElementById(outputId);\n",
              "  // Cache steps on the outputElement to make it available for the next call\n",
              "  // to uploadFilesContinue from Python.\n",
              "  outputElement.steps = steps;\n",
              "\n",
              "  return _uploadFilesContinue(outputId);\n",
              "}\n",
              "\n",
              "// This is roughly an async generator (not supported in the browser yet),\n",
              "// where there are multiple asynchronous steps and the Python side is going\n",
              "// to poll for completion of each step.\n",
              "// This uses a Promise to block the python side on completion of each step,\n",
              "// then passes the result of the previous step as the input to the next step.\n",
              "function _uploadFilesContinue(outputId) {\n",
              "  const outputElement = document.getElementById(outputId);\n",
              "  const steps = outputElement.steps;\n",
              "\n",
              "  const next = steps.next(outputElement.lastPromiseValue);\n",
              "  return Promise.resolve(next.value.promise).then((value) => {\n",
              "    // Cache the last promise value to make it available to the next\n",
              "    // step of the generator.\n",
              "    outputElement.lastPromiseValue = value;\n",
              "    return next.value.response;\n",
              "  });\n",
              "}\n",
              "\n",
              "/**\n",
              " * Generator function which is called between each async step of the upload\n",
              " * process.\n",
              " * @param {string} inputId Element ID of the input file picker element.\n",
              " * @param {string} outputId Element ID of the output display.\n",
              " * @return {!Iterable<!Object>} Iterable of next steps.\n",
              " */\n",
              "function* uploadFilesStep(inputId, outputId) {\n",
              "  const inputElement = document.getElementById(inputId);\n",
              "  inputElement.disabled = false;\n",
              "\n",
              "  const outputElement = document.getElementById(outputId);\n",
              "  outputElement.innerHTML = '';\n",
              "\n",
              "  const pickedPromise = new Promise((resolve) => {\n",
              "    inputElement.addEventListener('change', (e) => {\n",
              "      resolve(e.target.files);\n",
              "    });\n",
              "  });\n",
              "\n",
              "  const cancel = document.createElement('button');\n",
              "  inputElement.parentElement.appendChild(cancel);\n",
              "  cancel.textContent = 'Cancel upload';\n",
              "  const cancelPromise = new Promise((resolve) => {\n",
              "    cancel.onclick = () => {\n",
              "      resolve(null);\n",
              "    };\n",
              "  });\n",
              "\n",
              "  // Wait for the user to pick the files.\n",
              "  const files = yield {\n",
              "    promise: Promise.race([pickedPromise, cancelPromise]),\n",
              "    response: {\n",
              "      action: 'starting',\n",
              "    }\n",
              "  };\n",
              "\n",
              "  cancel.remove();\n",
              "\n",
              "  // Disable the input element since further picks are not allowed.\n",
              "  inputElement.disabled = true;\n",
              "\n",
              "  if (!files) {\n",
              "    return {\n",
              "      response: {\n",
              "        action: 'complete',\n",
              "      }\n",
              "    };\n",
              "  }\n",
              "\n",
              "  for (const file of files) {\n",
              "    const li = document.createElement('li');\n",
              "    li.append(span(file.name, {fontWeight: 'bold'}));\n",
              "    li.append(span(\n",
              "        `(${file.type || 'n/a'}) - ${file.size} bytes, ` +\n",
              "        `last modified: ${\n",
              "            file.lastModifiedDate ? file.lastModifiedDate.toLocaleDateString() :\n",
              "                                    'n/a'} - `));\n",
              "    const percent = span('0% done');\n",
              "    li.appendChild(percent);\n",
              "\n",
              "    outputElement.appendChild(li);\n",
              "\n",
              "    const fileDataPromise = new Promise((resolve) => {\n",
              "      const reader = new FileReader();\n",
              "      reader.onload = (e) => {\n",
              "        resolve(e.target.result);\n",
              "      };\n",
              "      reader.readAsArrayBuffer(file);\n",
              "    });\n",
              "    // Wait for the data to be ready.\n",
              "    let fileData = yield {\n",
              "      promise: fileDataPromise,\n",
              "      response: {\n",
              "        action: 'continue',\n",
              "      }\n",
              "    };\n",
              "\n",
              "    // Use a chunked sending to avoid message size limits. See b/62115660.\n",
              "    let position = 0;\n",
              "    do {\n",
              "      const length = Math.min(fileData.byteLength - position, MAX_PAYLOAD_SIZE);\n",
              "      const chunk = new Uint8Array(fileData, position, length);\n",
              "      position += length;\n",
              "\n",
              "      const base64 = btoa(String.fromCharCode.apply(null, chunk));\n",
              "      yield {\n",
              "        response: {\n",
              "          action: 'append',\n",
              "          file: file.name,\n",
              "          data: base64,\n",
              "        },\n",
              "      };\n",
              "\n",
              "      let percentDone = fileData.byteLength === 0 ?\n",
              "          100 :\n",
              "          Math.round((position / fileData.byteLength) * 100);\n",
              "      percent.textContent = `${percentDone}% done`;\n",
              "\n",
              "    } while (position < fileData.byteLength);\n",
              "  }\n",
              "\n",
              "  // All done.\n",
              "  yield {\n",
              "    response: {\n",
              "      action: 'complete',\n",
              "    }\n",
              "  };\n",
              "}\n",
              "\n",
              "scope.google = scope.google || {};\n",
              "scope.google.colab = scope.google.colab || {};\n",
              "scope.google.colab._files = {\n",
              "  _uploadFiles,\n",
              "  _uploadFilesContinue,\n",
              "};\n",
              "})(self);\n",
              "</script> "
            ]
          },
          "metadata": {}
        },
        {
          "output_type": "stream",
          "name": "stdout",
          "text": [
            "Saving fable01.txt to fable01.txt\n",
            "User uploaded files 'fable01.txt' with length 508 bites\n"
          ]
        }
      ]
    },
    {
      "cell_type": "markdown",
      "source": [
        "### Example 2️⃣ {matplotlib} Plotting, data visualization\n",
        "[source link](\"https://www.activestate.com/resources/quick-reads/what-is-matplotlib-in-python-how-to-use-it-for-plotting/#:~:text=Matplotlib%20is%20a%20cross%2Dplatform,embed%20plots%20in%20GUI%20applications.\")"
      ],
      "metadata": {
        "id": "ngHUqzfJzqVZ"
      }
    },
    {
      "cell_type": "code",
      "source": [
        "import matplotlib.pyplot as plt\n",
        "import numpy as np"
      ],
      "metadata": {
        "id": "JSCp_p-ez3zb"
      },
      "execution_count": 32,
      "outputs": []
    },
    {
      "cell_type": "code",
      "source": [
        "# Plot some numbers:\n",
        "plt.plot([1, 2, 3]) \n",
        "plt.title(\"Line Plot\")\n",
        "\n",
        "# Display the plot:\n",
        "plt.show()"
      ],
      "metadata": {
        "id": "_coFk-4Kz73Z",
        "outputId": "c098aa66-b768-4d0d-b1ef-3c12e003bb2a",
        "colab": {
          "base_uri": "https://localhost:8080/",
          "height": 281
        }
      },
      "execution_count": 33,
      "outputs": [
        {
          "output_type": "display_data",
          "data": {
            "text/plain": [
              "<Figure size 432x288 with 1 Axes>"
            ],
            "image/png": "[encoded data removed]"
          },
          "metadata": {
            "needs_background": "light"
          }
        }
      ]
    },
    {
      "cell_type": "code",
      "source": [
        "# Data labels(x), sizes(y), and colors(z) are defined:\n",
        "x = 'A', 'B', 'C', 'D'\n",
        "y = [30, 200, 250, 150]\n",
        "z = ['green', 'yellow', 'orange', 'blue']\n",
        "\n",
        "# Pie chart\n",
        "plt.pie(y, labels=x, colors=z)\n",
        "\n",
        "plt.axis('equal')\n",
        "plt.title('Pie Plot Example')\n",
        "plt.show()"
      ],
      "metadata": {
        "id": "zSkL5CSX0aWy",
        "outputId": "35473ec6-ce49-4e2d-bb23-ef4aa1c2a55e",
        "colab": {
          "base_uri": "https://localhost:8080/",
          "height": 264
        }
      },
      "execution_count": 36,
      "outputs": [
        {
          "output_type": "display_data",
          "data": {
            "text/plain": [
              "<Figure size 432x288 with 1 Axes>"
            ],
            "image/png": "[encoded data removed]"
          },
          "metadata": {}
        }
      ]
    },
    {
      "cell_type": "code",
      "source": [
        "# Create a Line2D instance with x and y data in sequences xdata, ydata:\n",
        "\n",
        "# x data:\n",
        "xdata=['A','B','C']\n",
        "\n",
        "# y data:\n",
        "ydata=[1,3,5]\n",
        "\n",
        "plt.bar(range(len(xdata)),ydata)\n",
        "plt.title('Bar Plot Example')\n",
        "plt.show()"
      ],
      "metadata": {
        "id": "164JT8KX3Lt_",
        "outputId": "1e04073d-3a65-4f0b-84b6-3f92691d65ea",
        "colab": {
          "base_uri": "https://localhost:8080/",
          "height": 281
        }
      },
      "execution_count": 37,
      "outputs": [
        {
          "output_type": "display_data",
          "data": {
            "text/plain": [
              "<Figure size 432x288 with 1 Axes>"
            ],
            "image/png": "[encoded data removed]"
          },
          "metadata": {
            "needs_background": "light"
          }
        }
      ]
    },
    {
      "cell_type": "markdown",
      "source": [
        "##📗 [4] Functions\n",
        "\n",
        ">=> \"A function is a block of code which only runs when it is called. You can pass data, known as parameters, into a function. A function can return data as a result.\" [source link](\"https://www.w3schools.com/python/python_functions.asp\")\n"
      ],
      "metadata": {
        "id": "W05stUdH5bqv"
      }
    },
    {
      "cell_type": "code",
      "source": [
        "# Define add(a,b) function\n",
        "\n",
        "def add(a,b):     # i.e., two variables(a,b) are required for this 'add' function\n",
        "  c = a+b\n",
        "  return print('The result is %d.'%c)   # %d: substitute this position with %c(variable)"
      ],
      "metadata": {
        "id": "NzHmwOIr5PH_"
      },
      "execution_count": 38,
      "outputs": []
    },
    {
      "cell_type": "code",
      "source": [
        "add(3,4)"
      ],
      "metadata": {
        "id": "KueYVoiw-rgA",
        "outputId": "94fdd777-f519-4d99-b0ce-b230f6414b5b",
        "colab": {
          "base_uri": "https://localhost:8080/"
        }
      },
      "execution_count": 39,
      "outputs": [
        {
          "output_type": "stream",
          "name": "stdout",
          "text": [
            "The result is 7.\n"
          ]
        }
      ]
    },
    {
      "cell_type": "code",
      "source": [
        "# Create a function: Sum from x to y\n",
        "\n",
        "def sum(x,y):\n",
        "  sum = 0\n",
        "  for i in range(x, y+1):\n",
        "    sum = sum + i\n",
        "  print('The sum from %d to %d'%(x,y), 'is %d'%sum)"
      ],
      "metadata": {
        "id": "l3Ehb7LN420Z"
      },
      "execution_count": 40,
      "outputs": []
    },
    {
      "cell_type": "markdown",
      "source": [
        "Note: range(0,3) - 1st, 2nd (excluding the 3rd element)"
      ],
      "metadata": {
        "id": "ICJmNR82Wah1"
      }
    },
    {
      "cell_type": "code",
      "source": [
        "sum(1,100)"
      ],
      "metadata": {
        "id": "lnkcQ83k94eN",
        "outputId": "5b55cbf5-a129-4e49-ba47-a6d06dcddcb3",
        "colab": {
          "base_uri": "https://localhost:8080/"
        }
      },
      "execution_count": 41,
      "outputs": [
        {
          "output_type": "stream",
          "name": "stdout",
          "text": [
            "The sum from 1 to 100 is 5050\n"
          ]
        }
      ]
    },
    {
      "cell_type": "markdown",
      "source": [
        "---\n",
        "🌈 The End 🌈"
      ],
      "metadata": {
        "id": "YuavjOEY-nf-"
      }
    }
  ]
}